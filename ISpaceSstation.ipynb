{
 "cells": [
  {
   "cell_type": "markdown",
   "metadata": {},
   "source": [
    "# Let's call an API that tells us where the International space station currently is over the globe"
   ]
  },
  {
   "cell_type": "markdown",
   "metadata": {},
   "source": [
    " Here is the website for the API docs:  http://open-notify.org/Open-Notify-API/ISS-Location-Now/"
   ]
  },
  {
   "cell_type": "code",
   "execution_count": 3,
   "metadata": {
    "collapsed": false
   },
   "outputs": [
    {
     "name": "stdout",
     "output_type": "stream",
     "text": [
      "1455075828\n",
      "-111.496574917\n",
      "50.2777123296\n"
     ]
    }
   ],
   "source": [
    "import urllib2\n",
    "import json\n",
    "\n",
    "req = urllib2.Request(\"http://api.open-notify.org/iss-now.json\")\n",
    "response = urllib2.urlopen(req)\n",
    "\n",
    "obj = json.loads(response.read())\n",
    "\n",
    "print obj['timestamp']\n",
    "print obj['iss_position']['longitude']\n",
    "print obj['iss_position']['latitude']"
   ]
  },
  {
   "cell_type": "code",
   "execution_count": 10,
   "metadata": {
    "collapsed": false
   },
   "outputs": [
    {
     "name": "stdout",
     "output_type": "stream",
     "text": [
      "None\n"
     ]
    }
   ],
   "source": [
    "from geopy.geocoders import Nominatim\n",
    ">>> geolocator = Nominatim()\n",
    ">>> location = geolocator.reverse(\"longitude, latitude\")\n",
    ">>> print(location.address)"
   ]
  },
  {
   "cell_type": "markdown",
   "metadata": {},
   "source": [
    "http://www.latlong.net/Show-Latitude-Longitude.html to type in coordinates for nice visual of location"
   ]
  },
  {
   "cell_type": "code",
   "execution_count": 9,
   "metadata": {
    "collapsed": false
   },
   "outputs": [
    {
     "ename": "SyntaxError",
     "evalue": "invalid syntax (<ipython-input-9-981124ab5c5c>, line 3)",
     "output_type": "error",
     "traceback": [
      "\u001b[1;36m  File \u001b[1;32m\"<ipython-input-9-981124ab5c5c>\"\u001b[1;36m, line \u001b[1;32m3\u001b[0m\n\u001b[1;33m    http://www.latlong.net/c/?lat = (%lat) & long= (%long)\u001b[0m\n\u001b[1;37m        ^\u001b[0m\n\u001b[1;31mSyntaxError\u001b[0m\u001b[1;31m:\u001b[0m invalid syntax\n"
     ]
    }
   ],
   "source": [
    "lat = latitude \n",
    "long = longitude\n",
    "http://www.latlong.net/c/?lat = (%lat) & long= (%long)"
   ]
  },
  {
   "cell_type": "markdown",
   "metadata": {},
   "source": [
    "#Now let's find out how many people are in the space station and get their names"
   ]
  },
  {
   "cell_type": "code",
   "execution_count": 7,
   "metadata": {
    "collapsed": false
   },
   "outputs": [
    {
     "name": "stdout",
     "output_type": "stream",
     "text": [
      "6\n",
      "[{u'craft': u'ISS', u'name': u'Mikhail Kornienko'}, {u'craft': u'ISS', u'name': u'Scott Kelly'}, {u'craft': u'ISS', u'name': u'Sergey Volkov'}, {u'craft': u'ISS', u'name': u'Yuri Malenchenko'}, {u'craft': u'ISS', u'name': u'Timothy Kopra'}, {u'craft': u'ISS', u'name': u'Timothy Peake'}]\n"
     ]
    }
   ],
   "source": [
    "req = urllib2.Request(\"http://api.open-notify.org/astros.json\")\n",
    "response = urllib2.urlopen(req)\n",
    "\n",
    "obj = json.loads(response.read())\n",
    "\n",
    "print obj['number']\n",
    "print obj['people']\n"
   ]
  },
  {
   "cell_type": "code",
   "execution_count": null,
   "metadata": {
    "collapsed": true
   },
   "outputs": [],
   "source": []
  }
 ],
 "metadata": {
  "kernelspec": {
   "display_name": "Python 2",
   "language": "python",
   "name": "python2"
  },
  "language_info": {
   "codemirror_mode": {
    "name": "ipython",
    "version": 2
   },
   "file_extension": ".py",
   "mimetype": "text/x-python",
   "name": "python",
   "nbconvert_exporter": "python",
   "pygments_lexer": "ipython2",
   "version": "2.7.11"
  }
 },
 "nbformat": 4,
 "nbformat_minor": 0
}
